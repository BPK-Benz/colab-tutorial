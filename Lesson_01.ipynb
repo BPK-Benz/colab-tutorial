{
 "cells": [
  {
   "cell_type": "markdown",
   "id": "5c9cab61",
   "metadata": {},
   "source": [
    "# 🧪 Lesson 01: Getting Started with Git + GitHub + Colab"
   ]
  },
  {
   "cell_type": "markdown",
   "id": "4640e7e4",
   "metadata": {},
   "source": [
    "\n",
    "## 🎯 Objectives\n",
    "\n",
    "- เข้าใจแนวคิดพื้นฐานของ Git และ GitHub\n",
    "- ใช้คำสั่ง git เบื้องต้น (clone, status, add, commit, push)\n",
    "- ใช้ Google Colab ร่วมกับ GitHub เพื่อบันทึกและแชร์งาน\n"
   ]
  },
  {
   "cell_type": "markdown",
   "id": "9c5f7824",
   "metadata": {},
   "source": [
    "\n",
    "## 🧠 Intro to Git & GitHub\n",
    "\n",
    "**Git** คือระบบควบคุมเวอร์ชัน (Version Control System) ที่ช่วยให้เราสามารถย้อนเวลากลับไปยังเวอร์ชันก่อนหน้าได้\n",
    "\n",
    "**GitHub** คือบริการบนคลาวด์ที่ใช้เก็บ repository (โฟลเดอร์โปรเจกต์) ที่ใช้ Git เป็นระบบจัดการเวอร์ชัน\n",
    "\n",
    "---\n",
    "\n",
    "### 🔑 คำสั่งพื้นฐานที่ต้องรู้\n",
    "\n",
    "| คำสั่ง | ความหมาย |\n",
    "|--------|-----------|\n",
    "| `git clone` | ดึงโปรเจกต์จาก GitHub |\n",
    "| `git status` | ตรวจสอบสถานะไฟล์ |\n",
    "| `git add` | เตรียมไฟล์สำหรับ commit |\n",
    "| `git commit -m \"ข้อความ\"` | บันทึกเวอร์ชัน |\n",
    "| `git push` | ส่งขึ้น GitHub |\n"
   ]
  },
  {
   "cell_type": "markdown",
   "id": "1c796d27",
   "metadata": {},
   "source": [
    "\n",
    "## 🔧 Git Practice (บนเครื่องคุณ)\n",
    "\n",
    "> ✅ เปิด Terminal หรือ Git Bash บนเครื่องของคุณ เพื่อทำตามขั้นตอนต่อไปนี้\n",
    "\n",
    "### 1. Clone repo\n",
    "\n",
    "```bash\n",
    "git clone https://github.com/BPK-Benz/colab-tutorial.git\n",
    "cd colab-tutorial\n",
    "```\n",
    "\n",
    "### 2. สร้างไฟล์ใหม่\n",
    "\n",
    "```bash\n",
    "echo \"ชื่อของฉันคือ _______\" > hello.txt\n",
    "```\n",
    "\n",
    "### 3. เช็กสถานะ และ commit\n",
    "\n",
    "```bash\n",
    "git status\n",
    "git add hello.txt\n",
    "git commit -m \"เพิ่มชื่อของฉันใน hello.txt\"\n",
    "git push\n",
    "```\n",
    "\n",
    "หลังจาก push สำเร็จ ให้เข้าไปดูที่ GitHub ว่ามีไฟล์ `hello.txt` ปรากฏอยู่\n"
   ]
  },
  {
   "cell_type": "markdown",
   "id": "4ba02197",
   "metadata": {},
   "source": [
    "\n",
    "## 💻 การใช้ Google Colab กับ GitHub\n",
    "\n",
    "1. ไปที่ [https://colab.research.google.com](https://colab.research.google.com)\n",
    "2. ไปที่แท็บ **GitHub**\n",
    "3. ค้นหา repo ของคุณ เช่น `BPK-Benz/colab-tutorial`\n",
    "4. เปิดไฟล์ `Lesson_01.ipynb` → แก้ไข\n",
    "5. เมื่อเสร็จแล้ว ให้กด `File > Save a copy in GitHub` เพื่อบันทึกกลับ\n"
   ]
  },
  {
   "cell_type": "markdown",
   "id": "99508939",
   "metadata": {},
   "source": [
    "\n",
    "## ✍️ แบบฝึกหัด\n",
    "\n",
    "1. สร้างไฟล์ `.ipynb` ใหม่ชื่อ `my_info.ipynb`\n",
    "2. เขียนโค้ด Python ที่พิมพ์ชื่อของคุณและความคาดหวังจากวิชานี้ เช่น:\n",
    "\n",
    "```python\n",
    "print(\"ชื่อของฉันคือ _______\")\n",
    "print(\"ฉันคาดหวังว่าจะได้เรียนรู้ _______\")\n",
    "```\n",
    "\n",
    "3. Save ขึ้น GitHub โดยใช้ `Save a copy in GitHub`\n"
   ]
  },
  {
   "cell_type": "markdown",
   "id": "419cd285",
   "metadata": {},
   "source": [
    "\n",
    "## 📬 การส่งงาน\n",
    "\n",
    "1. ตรวจสอบว่าไฟล์ `hello.txt` และ `my_info.ipynb` ปรากฏอยู่ใน repo ของคุณบน GitHub แล้ว\n",
    "2. คัดลอกลิงก์ repo ของคุณ\n",
    "3. ส่งลิงก์ผ่านระบบที่อาจารย์กำหนด (LINE, Discord, Google Form)\n",
    "\n",
    "---\n"
   ]
  }
 ],
 "metadata": {},
 "nbformat": 4,
 "nbformat_minor": 5
}
