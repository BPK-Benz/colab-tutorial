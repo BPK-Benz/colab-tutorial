{
  "nbformat": 4,
  "nbformat_minor": 0,
  "metadata": {
    "colab": {
      "provenance": [],
      "authorship_tag": "ABX9TyPdezcdkoVF67BHAb8q3OXb",
      "include_colab_link": true
    },
    "kernelspec": {
      "name": "python3",
      "display_name": "Python 3"
    },
    "language_info": {
      "name": "python"
    }
  },
  "cells": [
    {
      "cell_type": "markdown",
      "metadata": {
        "id": "view-in-github",
        "colab_type": "text"
      },
      "source": [
        "<a href=\"https://colab.research.google.com/github/BPK-Benz/colab-tutorial/blob/main/Lession_01.ipynb\" target=\"_parent\"><img src=\"https://colab.research.google.com/assets/colab-badge.svg\" alt=\"Open In Colab\"/></a>"
      ]
    },
    {
      "cell_type": "code",
      "execution_count": 1,
      "metadata": {
        "id": "MSFOvo6tLZia",
        "colab": {
          "base_uri": "https://localhost:8080/"
        },
        "outputId": "0b1469d3-4fb9-4613-ff3b-1cae2b9fd99f"
      },
      "outputs": [
        {
          "output_type": "stream",
          "name": "stdout",
          "text": [
            "Hello from Colab!\n"
          ]
        }
      ],
      "source": [
        "print(\"Hello from Colab!\")"
      ]
    },
    {
      "cell_type": "code",
      "source": [],
      "metadata": {
        "id": "CSDxhLMlMARp"
      },
      "execution_count": null,
      "outputs": []
    }
  ]
}